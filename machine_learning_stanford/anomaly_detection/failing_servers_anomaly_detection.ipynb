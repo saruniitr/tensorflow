{
 "cells": [
  {
   "cell_type": "markdown",
   "metadata": {},
   "source": [
    "# Anomaly Detection Exercise using Tensorflow\n",
    "\n",
    "In this notebook we will implement anomaly detection and apply it to detect failing servers on a network.\n",
    "We first compute Multivariate Gaussian distribution on training set and validation set.\n",
    "With the Validation set labels and Validation probability distribution we determine best Epsilon (threshold) and F1 score. Once we calculate these values these are applied to training set to determine the Outliers (anomalies).\n",
    "\n",
    "**Dataset**\n",
    "<br>\n",
    "There are two sets of datasets examined.\n",
    "Dataset1 is a simpler dataset with only two features which is helpful for data visualization.\n",
    "Dataset2 is a more realistic dataset with more features. In this case we only determine the outliers as we cannot plot higher dimensions."
   ]
  },
  {
   "cell_type": "code",
   "execution_count": 919,
   "metadata": {
    "collapsed": true
   },
   "outputs": [],
   "source": [
    "# import required modules\n",
    "\n",
    "import tensorflow as tf\n",
    "import numpy as np\n",
    "from sklearn import metrics, model_selection\n",
    "import matplotlib.pyplot as plt\n",
    "import scipy.io  # for reading .mat files\n",
    "\n",
    "%matplotlib inline"
   ]
  },
  {
   "cell_type": "code",
   "execution_count": 920,
   "metadata": {
    "collapsed": false
   },
   "outputs": [
    {
     "name": "stdout",
     "output_type": "stream",
     "text": [
      "dict_keys(['yval', 'Xval', '__header__', 'X', '__version__', '__globals__'])\n"
     ]
    }
   ],
   "source": [
    "mat = scipy.io.loadmat('dataset1.mat')\n",
    "print(mat.keys())"
   ]
  },
  {
   "cell_type": "code",
   "execution_count": 921,
   "metadata": {
    "collapsed": false
   },
   "outputs": [],
   "source": [
    "# Extract features and validation data\n",
    "Features = mat['X']"
   ]
  },
  {
   "cell_type": "code",
   "execution_count": 922,
   "metadata": {
    "collapsed": false
   },
   "outputs": [
    {
     "data": {
      "image/png": "[encoded data removed]",
      "text/plain": [
       "<matplotlib.figure.Figure at 0x7f2133533860>"
      ]
     },
     "metadata": {},
     "output_type": "display_data"
    }
   ],
   "source": [
    "latency, throughput = Features[:, 0], Features[:, 1]\n",
    "\n",
    "fig = plt.figure()\n",
    "ax = fig.add_axes([0,0,1,1])\n",
    "\n",
    "ax.set_xlim([0, np.max(latency)+5])\n",
    "ax.set_ylim([0, np.max(throughput)+5])\n",
    "\n",
    "ax.scatter(latency, throughput, color='blue', marker='x', label='Latency vs Throughput');\n",
    "ax.set_xlabel('Latency (ms)')\n",
    "ax.set_ylabel('Throughput (mb/s)')\n",
    "ax.set_title('Latency vs Throughput')\n",
    "ax.legend(loc='upper right')\n",
    "ax.grid(axis='both')"
   ]
  },
  {
   "cell_type": "code",
   "execution_count": 923,
   "metadata": {
    "collapsed": false
   },
   "outputs": [
    {
     "name": "stdout",
     "output_type": "stream",
     "text": [
      "No. of features: 2\n",
      "No. of Examples in Training set: 307\n",
      "No. of Examples in Cross Validation set: 307\n"
     ]
    }
   ],
   "source": [
    "X = Features\n",
    "Xval = mat['Xval']\n",
    "yval = mat['yval']\n",
    "\n",
    "print(\"No. of features: %d\" % X.shape[1])\n",
    "print(\"No. of Examples in Training set: %d\" % X.shape[0])\n",
    "print(\"No. of Examples in Cross Validation set: %d\" % Xval.shape[0])\n",
    "\n",
    "mu = np.mean(X, axis=0)\n",
    "sigma2 = np.var(X, axis=0)"
   ]
  },
  {
   "cell_type": "code",
   "execution_count": 924,
   "metadata": {
    "collapsed": true
   },
   "outputs": [],
   "source": [
    "# Multivariate Gaussian distribution using Tensorflow\n",
    "def tf_multivariateGaussian(X, mu, sigma2):\n",
    "    if sigma2.ndim == 1:\n",
    "        Sigma2 = np.diag(sigma2)\n",
    "\n",
    "    # setup placeholders\n",
    "    Xt = tf.placeholder(dtype=tf.float32, shape=X.shape)\n",
    "    Mu = tf.placeholder(dtype=tf.float32, shape=mu.shape)\n",
    "    Sig = tf.placeholder(dtype=tf.float32, shape=Sigma2.shape)\n",
    "    \n",
    "    init = tf.global_variables_initializer()\n",
    "    \n",
    "    with tf.Session() as session:\n",
    "        session.run(init);\n",
    "\n",
    "        # calculate numerator and denominator separately\n",
    "        nr = tf.exp(-(1 / 2) * tf.reduce_sum(tf.multiply(tf.matmul((Xt - Mu), tf.matrix_inverse(Sig)), (Xt - Mu)), axis=1));\n",
    "        dr = tf.pow((2 * np.pi), (np.size(mu)/2)) * tf.sqrt(tf.matrix_determinant(Sig))\n",
    "              \n",
    "        nr_result = session.run(nr, feed_dict={Xt: X, Mu: mu, Sig: Sigma2});\n",
    "        dr_result = session.run(dr, feed_dict={Sig: Sigma2})\n",
    "        \n",
    "    pdf = nr_result / dr_result;\n",
    "    \n",
    "    return pdf;"
   ]
  },
  {
   "cell_type": "code",
   "execution_count": 925,
   "metadata": {
    "collapsed": false
   },
   "outputs": [],
   "source": [
    "# Get Probability distribution for training set\n",
    "pdf = tf_multivariateGaussian(X, mu, sigma2)"
   ]
  },
  {
   "cell_type": "code",
   "execution_count": 926,
   "metadata": {
    "collapsed": false
   },
   "outputs": [],
   "source": [
    "# Finding Outliers\n",
    "# We will use validation set to determine best epsilon and F1 score\n",
    "\n",
    "pval = tf_multivariateGaussian(Xval, mu, sigma2)"
   ]
  },
  {
   "cell_type": "code",
   "execution_count": 927,
   "metadata": {
    "collapsed": false
   },
   "outputs": [],
   "source": [
    "# Selecting epsilon\n",
    "def selectThreshold(yval, pval):\n",
    "    bestEpsilon = 0;\n",
    "    bestF1 = 0;\n",
    "    \n",
    "    yval = np.where(yval == 1, 1, 0)\n",
    " \n",
    "    step = (np.max(pval) - np.min(pval)) / 1000;\n",
    "    epsilon_range = np.arange(np.min(pval), np.max(pval), step)\n",
    "    \n",
    "    # loop through epsilon range and select best Epsilon (threshold)\n",
    "    for epsilon in epsilon_range:\n",
    "        anomaly = np.where(pval < epsilon, 1, 0);\n",
    "        anomaly = np.reshape(anomaly, yval.shape)\n",
    "\n",
    "        true_positive = np.sum(np.logical_and((yval == 1), (anomaly == 1)))\n",
    "        false_positive = np.sum(np.logical_and((yval == 0), (anomaly == 1)))\n",
    "        false_negative = np.sum(np.logical_and((yval == 1), (anomaly == 0)))\n",
    "\n",
    "        precision = true_positive / (true_positive + false_positive);\n",
    "        recall = true_positive / (true_positive + false_negative);\n",
    "\n",
    "        F1 = 2 * precision * recall / (precision + recall);\n",
    "\n",
    "        if F1 > bestF1:\n",
    "            bestF1 = F1;\n",
    "            bestEpsilon = epsilon;\n",
    "\n",
    "    return bestEpsilon, bestF1;\n"
   ]
  },
  {
   "cell_type": "code",
   "execution_count": 928,
   "metadata": {
    "collapsed": false
   },
   "outputs": [
    {
     "name": "stdout",
     "output_type": "stream",
     "text": [
      "Best Epsilon: 8.990853e-05, F1 Score: 0.8750\n",
      "No. of Outliers: 6\n"
     ]
    }
   ],
   "source": [
    "epsilon, F1 = selectThreshold(yval, pval);\n",
    "\n",
    "# Now that we have best Epsilon, apply it on Training set to determine Outliers\n",
    "outliers = X[pdf < epsilon]\n",
    "\n",
    "print(\"Best Epsilon: %e, F1 Score: %.4f\" % (epsilon, F1))\n",
    "print(\"No. of Outliers: %d\" % outliers.shape[0])"
   ]
  },
  {
   "cell_type": "code",
   "execution_count": 929,
   "metadata": {
    "collapsed": false
   },
   "outputs": [
    {
     "data": {
      "image/png": "[encoded data removed]",
      "text/plain": [
       "<matplotlib.figure.Figure at 0x7f213356e048>"
      ]
     },
     "metadata": {},
     "output_type": "display_data"
    }
   ],
   "source": [
    "# Plot training data and mark selected outliers (anomalies)\n",
    "latency, throughput = X[:, 0], X[:, 1]\n",
    "\n",
    "fig = plt.figure()\n",
    "ax = fig.add_axes([0,0,1,1])\n",
    "\n",
    "ax.set_xlim([0, np.max(latency)+10])\n",
    "ax.set_ylim([0, np.max(throughput)+10])\n",
    "\n",
    "ax.scatter(outliers[:, 0], outliers[:, 1], color='red', marker='D', s=48, label='Outliers');\n",
    "ax.scatter(latency, throughput, color='blue', marker='x', label='Latency vs Throughput');\n",
    "ax.set_xlabel('Latency (ms)')\n",
    "ax.set_ylabel('Throughput (mb/s)')\n",
    "ax.set_title('Latency vs Throughput with Anomalies marked')\n",
    "ax.legend(loc='upper right')\n",
    "ax.grid(axis='both')"
   ]
  },
  {
   "cell_type": "code",
   "execution_count": null,
   "metadata": {
    "collapsed": false
   },
   "outputs": [],
   "source": []
  },
  {
   "cell_type": "code",
   "execution_count": 930,
   "metadata": {
    "collapsed": false
   },
   "outputs": [
    {
     "name": "stdout",
     "output_type": "stream",
     "text": [
      "No. of features: 11\n",
      "No. of Examples in Training set: 1000\n",
      "No. of Examples in Cross Validation set: 100\n",
      "Best Epsilon: 1.377229e-18, F1 Score: 0.6154\n",
      "No. of Outliers: 117\n"
     ]
    }
   ],
   "source": [
    "# Another dataset with more features\n",
    "mat2 = scipy.io.loadmat('dataset2.mat')\n",
    "\n",
    "X = mat2['X']\n",
    "Xval = mat2['Xval']\n",
    "yval = mat2['yval']\n",
    "\n",
    "print(\"No. of features: %d\" % X.shape[1])\n",
    "print(\"No. of Examples in Training set: %d\" % X.shape[0])\n",
    "print(\"No. of Examples in Cross Validation set: %d\" % Xval.shape[0])\n",
    "\n",
    "mu = np.mean(X, axis=0)\n",
    "sigma2 = np.var(X, axis=0)\n",
    "\n",
    "# Get Probability distribution for training set\n",
    "pdf = tf_multivariateGaussian(X, mu, sigma2)\n",
    "\n",
    "# Get probability distribution for validation set and use it to determine best Epsilon (threshold)\n",
    "pval = tf_multivariateGaussian(Xval, mu, sigma2)\n",
    "epsilon, F1 = selectThreshold(yval, pval);\n",
    "print(\"Best Epsilon: %e, F1 Score: %.4f\" % (epsilon, F1))\n",
    "\n",
    "# Now that we have best Epsilon, apply it on Training set to determine Outliers\n",
    "outliers = X[pdf < epsilon]\n",
    "print(\"No. of Outliers: %d\" % outliers.shape[0])"
   ]
  },
  {
   "cell_type": "code",
   "execution_count": null,
   "metadata": {
    "collapsed": true
   },
   "outputs": [],
   "source": []
  },
  {
   "cell_type": "code",
   "execution_count": null,
   "metadata": {
    "collapsed": true
   },
   "outputs": [],
   "source": []
  },
  {
   "cell_type": "code",
   "execution_count": 931,
   "metadata": {
    "collapsed": true
   },
   "outputs": [],
   "source": [
    "# Multivariate Gaussian distribution with standard Python\n",
    "def multivariateGaussian(X, mu, sigma2):\n",
    "    if sigma2.ndim == 1:\n",
    "        Sigma2 = np.diag(sigma2)\n",
    "        \n",
    "    det_cov = np.linalg.det(Sigma2)\n",
    "    \n",
    "    nr = np.exp(-(1 / 2) * np.sum(np.matmul((X - mu), np.linalg.inv(Sigma2)) * (X - mu), axis=1))\n",
    "    dr = ((2 * np.pi)**(np.size(mu)/2) * (det_cov**0.5))\n",
    "    \n",
    "    pdf = nr / dr;\n",
    "    \n",
    "    return pdf;"
   ]
  },
  {
   "cell_type": "code",
   "execution_count": null,
   "metadata": {
    "collapsed": true
   },
   "outputs": [],
   "source": []
  }
 ],
 "metadata": {
  "kernelspec": {
   "display_name": "Python 3",
   "language": "python",
   "name": "python3"
  },
  "language_info": {
   "codemirror_mode": {
    "name": "ipython",
    "version": 3
   },
   "file_extension": ".py",
   "mimetype": "text/x-python",
   "name": "python",
   "nbconvert_exporter": "python",
   "pygments_lexer": "ipython3",
   "version": "3.5.2"
  }
 },
 "nbformat": 4,
 "nbformat_minor": 1
}
