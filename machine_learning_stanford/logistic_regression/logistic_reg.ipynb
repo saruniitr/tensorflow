{
 "cells": [
  {
   "cell_type": "markdown",
   "metadata": {},
   "source": [
    "# Logistic Regression implementation using Tensorflow"
   ]
  },
  {
   "cell_type": "code",
   "execution_count": 539,
   "metadata": {
    "collapsed": true
   },
   "outputs": [],
   "source": [
    "#import required modules\n",
    "\n",
    "import tensorflow as tf\n",
    "import numpy as np\n",
    "from sklearn import metrics, model_selection\n",
    "import matplotlib.pyplot as plt\n",
    "\n",
    "%matplotlib inline"
   ]
  },
  {
   "cell_type": "code",
   "execution_count": 560,
   "metadata": {
    "collapsed": true
   },
   "outputs": [],
   "source": [
    "data = np.genfromtxt('ex2data1.txt', delimiter=',')\n",
    "Features = data[:, 0:2]\n",
    "labels = data[:, 2]"
   ]
  },
  {
   "cell_type": "code",
   "execution_count": 561,
   "metadata": {
    "collapsed": false
   },
   "outputs": [
    {
     "data": {
      "image/png": "[encoded data removed]",
      "text/plain": [
       "<matplotlib.figure.Figure at 0x7f0124b255f8>"
      ]
     },
     "metadata": {},
     "output_type": "display_data"
    }
   ],
   "source": [
    "# Visualize input data\n",
    "\n",
    "exam1, exam2 = Features[:, 0], Features[:, 1]\n",
    "\n",
    "fig = plt.figure()\n",
    "ax = fig.add_axes([0,0,1,1])\n",
    "\n",
    "ax.set_xlim([np.min(exam1), 110])  # 110 is choosen only to get some space for legend\n",
    "ax.set_ylim([np.min(exam2), 110])\n",
    "\n",
    "ax.scatter(exam1[labels == 0], exam2[labels == 0], color='blue', marker='o', label='Not Admitted');\n",
    "ax.scatter(exam1[labels == 1], exam2[labels == 1], color='red', marker='+', label='Admitted');\n",
    "ax.set_xlabel('Exam1 score')\n",
    "ax.set_ylabel('Exam2 score')\n",
    "ax.legend(loc='upper right')\n",
    "ax.grid(axis='both')"
   ]
  },
  {
   "cell_type": "markdown",
   "metadata": {},
   "source": [
    "The data represents scores of two Exams and their University admission status based on these scores"
   ]
  },
  {
   "cell_type": "code",
   "execution_count": 562,
   "metadata": {
    "collapsed": true
   },
   "outputs": [],
   "source": [
    "# Feature Normalization\n",
    "mu = np.mean(Features, axis=0)\n",
    "sigma = np.std(Features, axis=0)\n",
    "\n",
    "Features = (Features - mu) / sigma"
   ]
  },
  {
   "cell_type": "code",
   "execution_count": 563,
   "metadata": {
    "collapsed": false
   },
   "outputs": [
    {
     "name": "stdout",
     "output_type": "stream",
     "text": [
      "100 2\n"
     ]
    }
   ],
   "source": [
    "# in this dataset we know there are only two columns for X\n",
    "m, n = Features.shape\n",
    "print(m, n)"
   ]
  },
  {
   "cell_type": "code",
   "execution_count": 564,
   "metadata": {
    "collapsed": false
   },
   "outputs": [],
   "source": [
    "# Add Bias vector (intercept terms) which is a vector with all 1's\n",
    "Features = np.hstack((np.ones((m,1)), Features))\n",
    "labels = data[:, 2:3]"
   ]
  },
  {
   "cell_type": "code",
   "execution_count": 565,
   "metadata": {
    "collapsed": false
   },
   "outputs": [
    {
     "name": "stdout",
     "output_type": "stream",
     "text": [
      "100 3\n"
     ]
    }
   ],
   "source": [
    "m1, n1 = Features.shape\n",
    "print(m1, n1)"
   ]
  },
  {
   "cell_type": "code",
   "execution_count": 567,
   "metadata": {
    "collapsed": false
   },
   "outputs": [],
   "source": [
    "# Split the data into training set and test set\n",
    "# 25% of data is separated as test set which is used to compute predictions and model behaviour\n",
    "X_train, X_test, y_train, y_test = model_selection.train_test_split(Features, labels, test_size=0.25, random_state=40)\n",
    "\n",
    "m_train, n_train = X_train.shape\n",
    "m_test, n_test = X_test.shape"
   ]
  },
  {
   "cell_type": "code",
   "execution_count": 568,
   "metadata": {
    "collapsed": true
   },
   "outputs": [],
   "source": [
    "def sigmoid(z):\n",
    "    return 1 / (1 + np.exp(-z));"
   ]
  },
  {
   "cell_type": "code",
   "execution_count": 569,
   "metadata": {
    "collapsed": true
   },
   "outputs": [],
   "source": [
    "# Tensorflow parameters\n",
    "alpha = 0.01 # learning rate\n",
    "num_epochs = 2000 # no of times complete dataset is iterated"
   ]
  },
  {
   "cell_type": "code",
   "execution_count": 570,
   "metadata": {
    "collapsed": true
   },
   "outputs": [],
   "source": [
    "# specify variable data types\n",
    "X = tf.placeholder(tf.float32, [m_train, n_train])\n",
    "y = tf.placeholder(tf.float32, [m_train, 1])\n",
    "\n",
    "# output parameters that fit the model\n",
    "theta = tf.Variable(tf.zeros([n_train, 1]))\n",
    "\n",
    "feed_dict = {X:X_train, y:y_train}"
   ]
  },
  {
   "cell_type": "code",
   "execution_count": 571,
   "metadata": {
    "collapsed": true
   },
   "outputs": [],
   "source": [
    "init = tf.global_variables_initializer()"
   ]
  },
  {
   "cell_type": "code",
   "execution_count": 572,
   "metadata": {
    "collapsed": true
   },
   "outputs": [],
   "source": [
    "# prediction hypothesis is the Sigmoid function h(x) = 1 / (1 + e^(-x));\n",
    "\n",
    "hypothesis = tf.sigmoid(tf.matmul(X, theta));"
   ]
  },
  {
   "cell_type": "code",
   "execution_count": 573,
   "metadata": {
    "collapsed": false
   },
   "outputs": [],
   "source": [
    "# Cost function for Logistic Regression\n",
    "\n",
    "cost = tf.reduce_sum((-1 * np.multiply(y, tf.log(hypothesis))) - np.multiply((1 - y), tf.log(1 - hypothesis))) / m_train;"
   ]
  },
  {
   "cell_type": "code",
   "execution_count": 574,
   "metadata": {
    "collapsed": true
   },
   "outputs": [],
   "source": [
    "# Initialize optimizer\n",
    "training_step = tf.train.GradientDescentOptimizer(alpha).minimize(cost)"
   ]
  },
  {
   "cell_type": "code",
   "execution_count": 575,
   "metadata": {
    "collapsed": false
   },
   "outputs": [],
   "source": [
    "error = np.empty(shape=[1],dtype=float)  # we will be appending cost/error of each iteration\n",
    "\n",
    "# Train the model using training data\n",
    "with tf.Session() as ssn:\n",
    "    ssn.run(init);\n",
    "\n",
    "    for epoch in range(num_epochs):\n",
    "        ssn.run(training_step, feed_dict=feed_dict);\n",
    "        error = np.append(error, ssn.run(cost, feed_dict=feed_dict));\n",
    "\n",
    "    # save final parameters for computing predictions\n",
    "    theta_fit = ssn.run(theta);"
   ]
  },
  {
   "cell_type": "code",
   "execution_count": 576,
   "metadata": {
    "collapsed": false
   },
   "outputs": [
    {
     "data": {
      "text/plain": [
       "array([ 0.01      ,  0.69143194,  0.68972546,  0.68802792,  0.68633926,\n",
       "        0.68465936,  0.68298823,  0.68132573,  0.67967182,  0.67802656])"
      ]
     },
     "execution_count": 576,
     "metadata": {},
     "output_type": "execute_result"
    }
   ],
   "source": [
    "error[0:10]"
   ]
  },
  {
   "cell_type": "code",
   "execution_count": 577,
   "metadata": {
    "collapsed": false
   },
   "outputs": [
    {
     "data": {
      "image/png": "[encoded data removed]",
      "text/plain": [
       "<matplotlib.figure.Figure at 0x7f011fd46748>"
      ]
     },
     "metadata": {},
     "output_type": "display_data"
    }
   ],
   "source": [
    "fig = plt.figure()\n",
    "ax = fig.add_axes([0,0,1,1])\n",
    "\n",
    "ax.set_xlim([0, num_epochs])\n",
    "ax.set_ylim([np.min(error), np.max(error)])\n",
    "ax.plot(range(len(error)), error, color='blue');\n",
    "ax.set_xlabel('No. of epochs/iterations')\n",
    "ax.set_ylabel('Cost/Error')\n",
    "ax.set_title('Cost vs No. of iterations')\n",
    "ax.grid(axis='both')"
   ]
  },
  {
   "cell_type": "code",
   "execution_count": 578,
   "metadata": {
    "collapsed": false
   },
   "outputs": [
    {
     "data": {
      "text/plain": [
       "array([[ 0.75521302],\n",
       "       [ 1.89326608],\n",
       "       [ 1.48466611]], dtype=float32)"
      ]
     },
     "execution_count": 578,
     "metadata": {},
     "output_type": "execute_result"
    }
   ],
   "source": [
    "# output parameters\n",
    "theta_fit"
   ]
  },
  {
   "cell_type": "code",
   "execution_count": 453,
   "metadata": {
    "collapsed": false
   },
   "outputs": [],
   "source": [
    "# Make predictions with the parameters theta_fit\n",
    "predict = np.round(sigmoid(np.matmul(X_test, theta_fit)))"
   ]
  },
  {
   "cell_type": "code",
   "execution_count": 579,
   "metadata": {
    "collapsed": false
   },
   "outputs": [],
   "source": [
    "pdata = np.concatenate((X_test[:, 1:], y_test), axis=1)\n",
    "pdata = np.concatenate((pdata, predict), axis=1)"
   ]
  },
  {
   "cell_type": "code",
   "execution_count": 580,
   "metadata": {
    "collapsed": false
   },
   "outputs": [],
   "source": [
    "not_admitted_test = np.array(list(filter(lambda row: row[2] == 0, pdata)))\n",
    "admitted_test = np.array(list(filter(lambda row: row[2] == 1, pdata)))\n",
    "correct_predictions = np.array(list(filter(lambda row: row[2] == row[3], pdata)))"
   ]
  },
  {
   "cell_type": "code",
   "execution_count": 590,
   "metadata": {
    "collapsed": false
   },
   "outputs": [
    {
     "name": "stdout",
     "output_type": "stream",
     "text": [
      "Accuracy: 88.00%\n"
     ]
    }
   ],
   "source": [
    "matching_results = np.mean(y_test == predict)\n",
    "\n",
    "print('Accuracy: %.2f%%' % np.multiply(matching_results, 100))"
   ]
  }
 ],
 "metadata": {
  "kernelspec": {
   "display_name": "Python 3",
   "language": "python",
   "name": "python3"
  },
  "language_info": {
   "codemirror_mode": {
    "name": "ipython",
    "version": 3
   },
   "file_extension": ".py",
   "mimetype": "text/x-python",
   "name": "python",
   "nbconvert_exporter": "python",
   "pygments_lexer": "ipython3",
   "version": "3.5.2"
  }
 },
 "nbformat": 4,
 "nbformat_minor": 1
}
