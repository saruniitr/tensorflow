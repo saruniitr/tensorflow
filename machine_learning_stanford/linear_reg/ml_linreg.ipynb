{
 "cells": [
  {
   "cell_type": "markdown",
   "metadata": {},
   "source": [
    "# Linear Regression implementation using Tensorflow"
   ]
  },
  {
   "cell_type": "code",
   "execution_count": 492,
   "metadata": {
    "collapsed": false
   },
   "outputs": [],
   "source": [
    "# import required modules\n",
    "\n",
    "import tensorflow as tf\n",
    "import numpy as np\n",
    "import matplotlib.pyplot as plt\n",
    "from sklearn import metrics, model_selection\n",
    "\n",
    "# to show up plots within notebook\n",
    "%matplotlib inline"
   ]
  },
  {
   "cell_type": "code",
   "execution_count": 493,
   "metadata": {
    "collapsed": false
   },
   "outputs": [],
   "source": [
    "# read data from text file\n",
    "data = np.genfromtxt('ex1data1.txt', delimiter=',')"
   ]
  },
  {
   "cell_type": "code",
   "execution_count": 494,
   "metadata": {
    "collapsed": false
   },
   "outputs": [
    {
     "name": "stdout",
     "output_type": "stream",
     "text": [
      "97 2\n"
     ]
    }
   ],
   "source": [
    "m,n = data.shape\n",
    "print(m,n)"
   ]
  },
  {
   "cell_type": "code",
   "execution_count": 495,
   "metadata": {
    "collapsed": false
   },
   "outputs": [],
   "source": [
    "# Get input features and output labels\n",
    "Features, labels = data[:, 0:1], data[:, 1]"
   ]
  },
  {
   "cell_type": "code",
   "execution_count": 496,
   "metadata": {
    "collapsed": false
   },
   "outputs": [],
   "source": [
    "# Feature Normalization\n",
    "mu = np.mean(Features, axis=0)\n",
    "sigma = np.std(Features, axis=0)\n",
    "\n",
    "Features = (Features - mu) / sigma"
   ]
  },
  {
   "cell_type": "code",
   "execution_count": 498,
   "metadata": {
    "collapsed": false
   },
   "outputs": [
    {
     "data": {
      "image/png": "[encoded data removed]",
      "text/plain": [
       "<matplotlib.figure.Figure at 0x7f63871f4358>"
      ]
     },
     "metadata": {},
     "output_type": "display_data"
    }
   ],
   "source": [
    "# visualize input data\n",
    "#plt.scatter(Features, labels, marker='x')\n",
    "\n",
    "fig = plt.figure()\n",
    "ax = fig.add_axes([0,0,1,1])\n",
    "\n",
    "ax.set_xlim([np.min(Features), np.max(Features)])\n",
    "ax.set_ylim([np.min(labels), np.max(labels)])\n",
    "ax.scatter(Features, labels, color='blue');\n",
    "ax.set_xlabel('X')\n",
    "ax.set_ylabel('y')\n",
    "ax.set_title('Input data (normalized)')\n",
    "ax.grid(axis='both')"
   ]
  },
  {
   "cell_type": "code",
   "execution_count": 499,
   "metadata": {
    "collapsed": false
   },
   "outputs": [],
   "source": [
    "# Add Bias vector which is a vector with all 1's\n",
    "Features = np.hstack((np.ones((m,1)), Features))"
   ]
  },
  {
   "cell_type": "code",
   "execution_count": 500,
   "metadata": {
    "collapsed": false
   },
   "outputs": [],
   "source": [
    "m1, n1 = Features.shape"
   ]
  },
  {
   "cell_type": "code",
   "execution_count": 501,
   "metadata": {
    "collapsed": false
   },
   "outputs": [
    {
     "name": "stdout",
     "output_type": "stream",
     "text": [
      "72 2\n",
      "25 2\n"
     ]
    }
   ],
   "source": [
    "# Split the data into training set and test set\n",
    "# 25% of data is separated as test set which is used to compute predictions and model behaviour\n",
    "X_train, X_test, y_train, y_test = model_selection.train_test_split(Features, labels, test_size=0.25, random_state=40)\n",
    "\n",
    "m_train, n_train = X_train.shape\n",
    "m_test, n_test = X_test.shape\n",
    "\n",
    "print(m_train, n_train)\n",
    "print(m_test, n_test)"
   ]
  },
  {
   "cell_type": "code",
   "execution_count": 502,
   "metadata": {
    "collapsed": false
   },
   "outputs": [
    {
     "data": {
      "text/plain": [
       "(25, 1)"
      ]
     },
     "execution_count": 502,
     "metadata": {},
     "output_type": "execute_result"
    }
   ],
   "source": [
    "# required for numpy\n",
    "y_train = np.reshape(y_train, (m_train, 1))\n",
    "y_test = np.reshape(y_test, (m_test, 1))\n",
    "y_train.shape\n",
    "y_test.shape"
   ]
  },
  {
   "cell_type": "code",
   "execution_count": 504,
   "metadata": {
    "collapsed": false
   },
   "outputs": [],
   "source": [
    "# Tensorflow parameters\n",
    "alpha = 0.01 # learning rate\n",
    "num_epochs = 1000 # no of times complete dataset is iterated\n",
    "\n",
    "error = np.empty(shape=[1],dtype=float)  # we will be appending cost/error of each iteration"
   ]
  },
  {
   "cell_type": "code",
   "execution_count": 505,
   "metadata": {
    "collapsed": false
   },
   "outputs": [],
   "source": [
    "# specify variable data types\n",
    "X = tf.placeholder(tf.float32, [m_train, n_train])\n",
    "y = tf.placeholder(tf.float32, [m_train, 1])\n",
    "\n",
    "# output parameters that fit the model\n",
    "theta = tf.Variable(tf.ones([n_train, 1]))\n",
    "\n",
    "feed_dict = {X:X_train, y:y_train}"
   ]
  },
  {
   "cell_type": "code",
   "execution_count": 507,
   "metadata": {
    "collapsed": false
   },
   "outputs": [],
   "source": [
    "init = tf.global_variables_initializer()"
   ]
  },
  {
   "cell_type": "code",
   "execution_count": 508,
   "metadata": {
    "collapsed": true
   },
   "outputs": [],
   "source": [
    "# Cost function - which is Mean square error\n",
    "cost = tf.reduce_mean(tf.square(tf.matmul(X, theta) - y))"
   ]
  },
  {
   "cell_type": "code",
   "execution_count": 510,
   "metadata": {
    "collapsed": false
   },
   "outputs": [],
   "source": [
    "training_step = tf.train.GradientDescentOptimizer(alpha).minimize(cost)"
   ]
  },
  {
   "cell_type": "code",
   "execution_count": 511,
   "metadata": {
    "collapsed": false
   },
   "outputs": [],
   "source": [
    "# Train the model using training data\n",
    "\n",
    "with tf.Session() as ssn:\n",
    "    ssn.run(init);\n",
    "\n",
    "    # loop through all iterations\n",
    "    for epoch in range(num_epochs):\n",
    "        val = ssn.run(training_step, feed_dict=feed_dict);\n",
    "        error = np.append(error, ssn.run(cost, feed_dict=feed_dict));\n",
    "\n",
    "    # save final parameters for computing predictions\n",
    "    theta_fit = ssn.run(theta);"
   ]
  },
  {
   "cell_type": "code",
   "execution_count": 484,
   "metadata": {
    "collapsed": false
   },
   "outputs": [
    {
     "data": {
      "image/png": "[encoded data removed]",
      "text/plain": [
       "<matplotlib.figure.Figure at 0x7f6386d33e10>"
      ]
     },
     "metadata": {},
     "output_type": "display_data"
    }
   ],
   "source": [
    "# Plot the change of error with respect to iterations\n",
    "# As we loop through more iterations the training error should ideally come down\n",
    "# Depending upon data and learning rate (alpha) determine at which rate the error come down\n",
    "\n",
    "fig = plt.figure()\n",
    "ax = fig.add_axes([0,0,1,1])\n",
    "\n",
    "ax.set_xlim([0, num_epochs])\n",
    "ax.set_ylim([np.min(error), np.max(error)])\n",
    "ax.plot(range(len(error)), error, color='blue');\n",
    "ax.set_xlabel('No. of epochs/iterations')\n",
    "ax.set_ylabel('Cost/Error')\n",
    "ax.set_title('Cost vs No. of iterations')\n",
    "ax.grid(axis='both')"
   ]
  },
  {
   "cell_type": "markdown",
   "metadata": {},
   "source": [
    "From the plot it is clear that error minimized fairly quickly"
   ]
  },
  {
   "cell_type": "code",
   "execution_count": 513,
   "metadata": {
    "collapsed": false
   },
   "outputs": [
    {
     "data": {
      "text/plain": [
       "array([[ 6.13475418],\n",
       "       [ 4.72931576]], dtype=float32)"
      ]
     },
     "execution_count": 513,
     "metadata": {},
     "output_type": "execute_result"
    }
   ],
   "source": [
    "theta_fit"
   ]
  },
  {
   "cell_type": "code",
   "execution_count": 518,
   "metadata": {
    "collapsed": false
   },
   "outputs": [
    {
     "data": {
      "image/png": "[encoded data removed]",
      "text/plain": [
       "<matplotlib.figure.Figure at 0x7f6386a3ed30>"
      ]
     },
     "metadata": {},
     "output_type": "display_data"
    }
   ],
   "source": [
    "# Now we know the parameters, plot the linear regression curve to see how well it is fit with the given data\n",
    "fig = plt.figure()\n",
    "ax = fig.add_axes([0,0,1,1])\n",
    "\n",
    "ax.set_xlim([np.min(Features), np.max(Features)])\n",
    "ax.set_ylim([np.min(labels), np.max(labels)])\n",
    "ax.set_xlabel('Features')\n",
    "ax.set_ylabel('Labels')\n",
    "ax.set_title('Label vs Input feature')\n",
    "\n",
    "ax.scatter(Features[:, 1], labels, color='blue', label='training data');\n",
    "ax.plot(Features[:, 1], np.matmul(Features, theta_fit), 'r', label='linear regression')\n",
    "\n",
    "ax.legend(loc=\"upper left\")\n",
    "ax.grid(axis='both')"
   ]
  },
  {
   "cell_type": "code",
   "execution_count": 519,
   "metadata": {
    "collapsed": false
   },
   "outputs": [
    {
     "name": "stdout",
     "output_type": "stream",
     "text": [
      "RMSE: 2.2719\n"
     ]
    }
   ],
   "source": [
    "# Make predictions\n",
    "y_pred = np.matmul(X_test, theta_fit)\n",
    "   \n",
    "print(\"RMSE: %.4f\" % np.sqrt(metrics.mean_squared_error(y_test, predictions)))"
   ]
  },
  {
   "cell_type": "code",
   "execution_count": 520,
   "metadata": {
    "collapsed": false
   },
   "outputs": [
    {
     "data": {
      "image/png": "[encoded data removed]",
      "text/plain": [
       "<matplotlib.figure.Figure at 0x7f63869ef940>"
      ]
     },
     "metadata": {},
     "output_type": "display_data"
    }
   ],
   "source": [
    "# plot predicted data with respect to test data\n",
    "fig = plt.figure()\n",
    "ax = fig.add_axes([0,0,1,1])\n",
    "\n",
    "ax.set_xlim([np.min(X_test[:, 1]), np.max(X_test[:, 1])])\n",
    "ax.set_ylim([np.min(y_test), np.max(y_test)])\n",
    "ax.scatter(X_test[:, 1], y_test, color='blue');\n",
    "ax.scatter(X_test[:, 1], y_pred, color='red');"
   ]
  },
  {
   "cell_type": "code",
   "execution_count": null,
   "metadata": {
    "collapsed": true
   },
   "outputs": [],
   "source": []
  }
 ],
 "metadata": {
  "kernelspec": {
   "display_name": "Python 3",
   "language": "python",
   "name": "python3"
  },
  "language_info": {
   "codemirror_mode": {
    "name": "ipython",
    "version": 3
   },
   "file_extension": ".py",
   "mimetype": "text/x-python",
   "name": "python",
   "nbconvert_exporter": "python",
   "pygments_lexer": "ipython3",
   "version": "3.5.2"
  }
 },
 "nbformat": 4,
 "nbformat_minor": 1
}
