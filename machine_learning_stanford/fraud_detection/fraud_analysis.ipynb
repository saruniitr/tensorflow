{
 "cells": [
  {
   "cell_type": "markdown",
   "metadata": {},
   "source": [
    "# Credit Card Data Analysis and Classification using Logistic Regression\n",
    "\n",
    "This program processes Credit card transaction data and classifies whether a given transaction is fradulent or normal using Logistic Regression. We use Tensorflow to implement Logistic Regression.\n",
    "\n",
    "**Dataset**\n",
    "\n",
    "The dataset is a standard dataset taken from internet. It is available on Kaggle and can also be downloaded from various Machine learning blogs etc.\n",
    "\n",
    "source: https://www.kaggle.com/dalpozz/creditcardfraud \n",
    "The datasets contains transactions made by credit cards in September 2013 by european cardholders. This dataset presents transactions that occurred in two days, where we have 492 frauds out of 284,807 transactions. The dataset is highly unbalanced, the positive class (frauds) account for 0.172% of all transactions.\n",
    "\n",
    "It contains only numerical input variables which are the result of a PCA transformation. Unfortunately, due to confidentiality issues, we cannot provide the original features and more background information about the data. Features V1, V2, ... V28 are the principal components obtained with PCA, the only features which have not been transformed with PCA are 'Time' and 'Amount'. Feature 'Time' contains the seconds elapsed between each transaction and the first transaction in the dataset. The feature 'Amount' is the transaction Amount, this feature can be used for example-dependant cost- senstivelearning. Feature 'Class' is the response variable and it takes value 1 in case of fraud and 0 otherwise.\n",
    "\n",
    "Citation: Andrea Dal Pozzolo, Olivier Caelen, Reid A. Johnson and Gianluca Bontempi. Calibrating Probability with Undersampling for Unbalanced Classification. In Symposium on Computational Intelligence and Data Mining (CIDM), IEEE, 2015"
   ]
  },
  {
   "cell_type": "code",
   "execution_count": 7,
   "metadata": {
    "collapsed": false
   },
   "outputs": [],
   "source": [
    "#import required modules\n",
    "\n",
    "import tensorflow as tf\n",
    "import pandas as pd\n",
    "import numpy as np\n",
    "from sklearn import metrics, model_selection\n",
    "import matplotlib.pyplot as plt\n",
    "\n",
    "%matplotlib inline"
   ]
  },
  {
   "cell_type": "code",
   "execution_count": 16,
   "metadata": {
    "collapsed": false
   },
   "outputs": [],
   "source": [
    "# It is to be noted that the csv file itself is not saved in the repository because of it's large size.\n",
    "# It can however be downloaded from the source given above\n",
    "\n",
    "data = pd.read_csv('creditcard.csv', sep=',');"
   ]
  },
  {
   "cell_type": "code",
   "execution_count": 19,
   "metadata": {
    "collapsed": false
   },
   "outputs": [
    {
     "data": {
      "text/html": [
       "<div>\n",
       "<table border=\"1\" class=\"dataframe\">\n",
       "  <thead>\n",
       "    <tr style=\"text-align: right;\">\n",
       "      <th></th>\n",
       "      <th>Time</th>\n",
       "      <th>V1</th>\n",
       "      <th>V2</th>\n",
       "      <th>V3</th>\n",
       "      <th>V4</th>\n",
       "      <th>V5</th>\n",
       "      <th>V6</th>\n",
       "      <th>V7</th>\n",
       "      <th>V8</th>\n",
       "      <th>V9</th>\n",
       "      <th>...</th>\n",
       "      <th>V21</th>\n",
       "      <th>V22</th>\n",
       "      <th>V23</th>\n",
       "      <th>V24</th>\n",
       "      <th>V25</th>\n",
       "      <th>V26</th>\n",
       "      <th>V27</th>\n",
       "      <th>V28</th>\n",
       "      <th>Amount</th>\n",
       "      <th>Class</th>\n",
       "    </tr>\n",
       "  </thead>\n",
       "  <tbody>\n",
       "    <tr>\n",
       "      <th>0</th>\n",
       "      <td>0</td>\n",
       "      <td>-1.359807</td>\n",
       "      <td>-0.072781</td>\n",
       "      <td>2.536347</td>\n",
       "      <td>1.378155</td>\n",
       "      <td>-0.338321</td>\n",
       "      <td>0.462388</td>\n",
       "      <td>0.239599</td>\n",
       "      <td>0.098698</td>\n",
       "      <td>0.363787</td>\n",
       "      <td>...</td>\n",
       "      <td>-0.018307</td>\n",
       "      <td>0.277838</td>\n",
       "      <td>-0.110474</td>\n",
       "      <td>0.066928</td>\n",
       "      <td>0.128539</td>\n",
       "      <td>-0.189115</td>\n",
       "      <td>0.133558</td>\n",
       "      <td>-0.021053</td>\n",
       "      <td>149.62</td>\n",
       "      <td>0</td>\n",
       "    </tr>\n",
       "    <tr>\n",
       "      <th>1</th>\n",
       "      <td>0</td>\n",
       "      <td>1.191857</td>\n",
       "      <td>0.266151</td>\n",
       "      <td>0.166480</td>\n",
       "      <td>0.448154</td>\n",
       "      <td>0.060018</td>\n",
       "      <td>-0.082361</td>\n",
       "      <td>-0.078803</td>\n",
       "      <td>0.085102</td>\n",
       "      <td>-0.255425</td>\n",
       "      <td>...</td>\n",
       "      <td>-0.225775</td>\n",
       "      <td>-0.638672</td>\n",
       "      <td>0.101288</td>\n",
       "      <td>-0.339846</td>\n",
       "      <td>0.167170</td>\n",
       "      <td>0.125895</td>\n",
       "      <td>-0.008983</td>\n",
       "      <td>0.014724</td>\n",
       "      <td>2.69</td>\n",
       "      <td>0</td>\n",
       "    </tr>\n",
       "    <tr>\n",
       "      <th>2</th>\n",
       "      <td>1</td>\n",
       "      <td>-1.358354</td>\n",
       "      <td>-1.340163</td>\n",
       "      <td>1.773209</td>\n",
       "      <td>0.379780</td>\n",
       "      <td>-0.503198</td>\n",
       "      <td>1.800499</td>\n",
       "      <td>0.791461</td>\n",
       "      <td>0.247676</td>\n",
       "      <td>-1.514654</td>\n",
       "      <td>...</td>\n",
       "      <td>0.247998</td>\n",
       "      <td>0.771679</td>\n",
       "      <td>0.909412</td>\n",
       "      <td>-0.689281</td>\n",
       "      <td>-0.327642</td>\n",
       "      <td>-0.139097</td>\n",
       "      <td>-0.055353</td>\n",
       "      <td>-0.059752</td>\n",
       "      <td>378.66</td>\n",
       "      <td>0</td>\n",
       "    </tr>\n",
       "    <tr>\n",
       "      <th>3</th>\n",
       "      <td>1</td>\n",
       "      <td>-0.966272</td>\n",
       "      <td>-0.185226</td>\n",
       "      <td>1.792993</td>\n",
       "      <td>-0.863291</td>\n",
       "      <td>-0.010309</td>\n",
       "      <td>1.247203</td>\n",
       "      <td>0.237609</td>\n",
       "      <td>0.377436</td>\n",
       "      <td>-1.387024</td>\n",
       "      <td>...</td>\n",
       "      <td>-0.108300</td>\n",
       "      <td>0.005274</td>\n",
       "      <td>-0.190321</td>\n",
       "      <td>-1.175575</td>\n",
       "      <td>0.647376</td>\n",
       "      <td>-0.221929</td>\n",
       "      <td>0.062723</td>\n",
       "      <td>0.061458</td>\n",
       "      <td>123.50</td>\n",
       "      <td>0</td>\n",
       "    </tr>\n",
       "  </tbody>\n",
       "</table>\n",
       "<p>4 rows × 31 columns</p>\n",
       "</div>"
      ],
      "text/plain": [
       "   Time        V1        V2        V3        V4        V5        V6        V7  \\\n",
       "0     0 -1.359807 -0.072781  2.536347  1.378155 -0.338321  0.462388  0.239599   \n",
       "1     0  1.191857  0.266151  0.166480  0.448154  0.060018 -0.082361 -0.078803   \n",
       "2     1 -1.358354 -1.340163  1.773209  0.379780 -0.503198  1.800499  0.791461   \n",
       "3     1 -0.966272 -0.185226  1.792993 -0.863291 -0.010309  1.247203  0.237609   \n",
       "\n",
       "         V8        V9  ...         V21       V22       V23       V24  \\\n",
       "0  0.098698  0.363787  ...   -0.018307  0.277838 -0.110474  0.066928   \n",
       "1  0.085102 -0.255425  ...   -0.225775 -0.638672  0.101288 -0.339846   \n",
       "2  0.247676 -1.514654  ...    0.247998  0.771679  0.909412 -0.689281   \n",
       "3  0.377436 -1.387024  ...   -0.108300  0.005274 -0.190321 -1.175575   \n",
       "\n",
       "        V25       V26       V27       V28  Amount  Class  \n",
       "0  0.128539 -0.189115  0.133558 -0.021053  149.62      0  \n",
       "1  0.167170  0.125895 -0.008983  0.014724    2.69      0  \n",
       "2 -0.327642 -0.139097 -0.055353 -0.059752  378.66      0  \n",
       "3  0.647376 -0.221929  0.062723  0.061458  123.50      0  \n",
       "\n",
       "[4 rows x 31 columns]"
      ]
     },
     "execution_count": 19,
     "metadata": {},
     "output_type": "execute_result"
    }
   ],
   "source": [
    "data.head(4)"
   ]
  },
  {
   "cell_type": "code",
   "execution_count": 110,
   "metadata": {
    "collapsed": false
   },
   "outputs": [],
   "source": [
    "# convert into numpy array\n",
    "data = data.values"
   ]
  },
  {
   "cell_type": "code",
   "execution_count": 111,
   "metadata": {
    "collapsed": false
   },
   "outputs": [],
   "source": [
    "# separate features and labels\n",
    "Features, labels = data[:, 0:30], data[:, 30:]"
   ]
  },
  {
   "cell_type": "code",
   "execution_count": 112,
   "metadata": {
    "collapsed": false
   },
   "outputs": [],
   "source": [
    "# Feature Normalization\n",
    "mu = np.mean(Features, axis=0)\n",
    "sigma = np.std(Features, axis=0)\n",
    "\n",
    "Features = (Features - mu) / sigma"
   ]
  },
  {
   "cell_type": "code",
   "execution_count": 113,
   "metadata": {
    "collapsed": false
   },
   "outputs": [
    {
     "name": "stdout",
     "output_type": "stream",
     "text": [
      "284807 30\n"
     ]
    }
   ],
   "source": [
    "m, n = Features.shape\n",
    "print(m, n)"
   ]
  },
  {
   "cell_type": "code",
   "execution_count": 114,
   "metadata": {
    "collapsed": true
   },
   "outputs": [],
   "source": [
    "# Add Bias vector (intercept terms) which is a vector with all 1's\n",
    "Features = np.hstack((np.ones((m,1)), Features))"
   ]
  },
  {
   "cell_type": "code",
   "execution_count": 116,
   "metadata": {
    "collapsed": false
   },
   "outputs": [],
   "source": [
    "# Split the data into training set and test set\n",
    "# 30% of data is separated as test set which is used to compute predictions and model behaviour\n",
    "X_train, X_test, y_train, y_test = model_selection.train_test_split(Features, labels, test_size=0.3, random_state=42)\n",
    "\n",
    "m_train, n_train = X_train.shape\n",
    "m_test, n_test = X_test.shape"
   ]
  },
  {
   "cell_type": "code",
   "execution_count": 117,
   "metadata": {
    "collapsed": false
   },
   "outputs": [
    {
     "name": "stdout",
     "output_type": "stream",
     "text": [
      "(199364, 31)\n",
      "(85443, 31)\n"
     ]
    }
   ],
   "source": [
    "print(X_train.shape)\n",
    "print(X_test.shape)"
   ]
  },
  {
   "cell_type": "code",
   "execution_count": 118,
   "metadata": {
    "collapsed": true
   },
   "outputs": [],
   "source": [
    "# Logistic Regression hypothesis function\n",
    "\n",
    "def sigmoid(z):\n",
    "    return np.exp(z) / (1 + np.exp(z));"
   ]
  },
  {
   "cell_type": "code",
   "execution_count": 133,
   "metadata": {
    "collapsed": true
   },
   "outputs": [],
   "source": [
    "# Tensorflow parameters\n",
    "alpha = 0.1 # learning rate\n",
    "num_epochs = 500 # no of times complete dataset is iterated"
   ]
  },
  {
   "cell_type": "code",
   "execution_count": 134,
   "metadata": {
    "collapsed": true
   },
   "outputs": [],
   "source": [
    "# specify variable data types\n",
    "X = tf.placeholder(tf.float32, [m_train, n_train])\n",
    "y = tf.placeholder(tf.float32, [m_train, 1])\n",
    "\n",
    "# output parameters that fit the model\n",
    "theta = tf.Variable(tf.zeros([n_train, 1]))\n",
    "\n",
    "feed_dict = {X:X_train, y:y_train}"
   ]
  },
  {
   "cell_type": "code",
   "execution_count": 135,
   "metadata": {
    "collapsed": true
   },
   "outputs": [],
   "source": [
    "init = tf.global_variables_initializer()"
   ]
  },
  {
   "cell_type": "code",
   "execution_count": 136,
   "metadata": {
    "collapsed": true
   },
   "outputs": [],
   "source": [
    "# prediction hypothesis is the Sigmoid function h(x) = e^(x) / (1 + e^(x));\n",
    "\n",
    "hypothesis = tf.sigmoid(tf.matmul(X, theta));"
   ]
  },
  {
   "cell_type": "code",
   "execution_count": 137,
   "metadata": {
    "collapsed": true
   },
   "outputs": [],
   "source": [
    "# Cost function for Logistic Regression\n",
    "\n",
    "cost = tf.reduce_sum((-1 * np.multiply(y, tf.log(hypothesis))) - np.multiply((1 - y), tf.log(1 - hypothesis))) / m_train;"
   ]
  },
  {
   "cell_type": "code",
   "execution_count": 138,
   "metadata": {
    "collapsed": true
   },
   "outputs": [],
   "source": [
    "# Initialize optimizer\n",
    "training_step = tf.train.GradientDescentOptimizer(alpha).minimize(cost)"
   ]
  },
  {
   "cell_type": "code",
   "execution_count": 139,
   "metadata": {
    "collapsed": true
   },
   "outputs": [],
   "source": [
    "error = np.empty(shape=[1], dtype=float)  # we will be appending cost/error of each iteration\n",
    "\n",
    "# Train the model using training data\n",
    "with tf.Session() as ssn:\n",
    "    ssn.run(init);\n",
    "\n",
    "    for epoch in range(num_epochs):\n",
    "        ssn.run(training_step, feed_dict=feed_dict);\n",
    "        error = np.append(error, ssn.run(cost, feed_dict=feed_dict));\n",
    "\n",
    "    # save final parameters for computing predictions\n",
    "    theta_fit = ssn.run(theta);"
   ]
  },
  {
   "cell_type": "code",
   "execution_count": 140,
   "metadata": {
    "collapsed": false
   },
   "outputs": [
    {
     "data": {
      "image/png": "[encoded data removed]",
      "text/plain": [
       "<matplotlib.figure.Figure at 0x7ff54f509470>"
      ]
     },
     "metadata": {},
     "output_type": "display_data"
    }
   ],
   "source": [
    "fig = plt.figure()\n",
    "ax = fig.add_axes([0,0,1,1])\n",
    "\n",
    "ax.set_xlim([0, num_epochs])\n",
    "ax.set_ylim([np.min(error), np.max(error)])\n",
    "ax.plot(range(len(error)), error, color='blue');\n",
    "ax.set_xlabel('No. of epochs/iterations')\n",
    "ax.set_ylabel('Cost/Error')\n",
    "ax.set_title('Cost vs No. of iterations')\n",
    "ax.grid(axis='both')"
   ]
  },
  {
   "cell_type": "code",
   "execution_count": 141,
   "metadata": {
    "collapsed": false
   },
   "outputs": [
    {
     "data": {
      "text/plain": [
       "array([[ -3.83135438e+00],\n",
       "       [ -2.02060724e-03],\n",
       "       [ -2.81863026e-02],\n",
       "       [  3.25882919e-02],\n",
       "       [ -7.14175925e-02],\n",
       "       [  6.84629753e-02],\n",
       "       [ -1.82370842e-02],\n",
       "       [ -1.72682833e-02],\n",
       "       [ -6.18274957e-02],\n",
       "       [ -6.57306379e-03],\n",
       "       [ -4.13070731e-02],\n",
       "       [ -8.54345262e-02],\n",
       "       [  6.45459220e-02],\n",
       "       [ -1.08650975e-01],\n",
       "       [ -5.32462588e-03],\n",
       "       [ -1.45618290e-01],\n",
       "       [ -2.57162121e-03],\n",
       "       [ -7.01167285e-02],\n",
       "       [ -1.05061024e-01],\n",
       "       [ -3.23881358e-02],\n",
       "       [  8.38123914e-03],\n",
       "       [  4.33648005e-03],\n",
       "       [  1.70138683e-02],\n",
       "       [  5.21128206e-03],\n",
       "       [ -3.23453778e-03],\n",
       "       [ -3.90204694e-03],\n",
       "       [  2.18918285e-05],\n",
       "       [  2.99365306e-03],\n",
       "       [  5.10438439e-03],\n",
       "       [  3.32265883e-03],\n",
       "       [  4.10356512e-03]], dtype=float32)"
      ]
     },
     "execution_count": 141,
     "metadata": {},
     "output_type": "execute_result"
    }
   ],
   "source": [
    "theta_fit"
   ]
  },
  {
   "cell_type": "code",
   "execution_count": 142,
   "metadata": {
    "collapsed": true
   },
   "outputs": [],
   "source": [
    "# Make predictions with the parameters theta_fit\n",
    "predict = np.round(sigmoid(np.matmul(X_test, theta_fit)))"
   ]
  },
  {
   "cell_type": "code",
   "execution_count": 143,
   "metadata": {
    "collapsed": false
   },
   "outputs": [
    {
     "name": "stdout",
     "output_type": "stream",
     "text": [
      "Accuracy: 99.92%\n"
     ]
    }
   ],
   "source": [
    "matching_results = np.mean(y_test == predict)\n",
    "\n",
    "print('Accuracy: %.2f%%' % np.multiply(matching_results, 100))"
   ]
  },
  {
   "cell_type": "code",
   "execution_count": 147,
   "metadata": {
    "collapsed": false
   },
   "outputs": [
    {
     "name": "stdout",
     "output_type": "stream",
     "text": [
      "True Positive: 80\n",
      "False Positive: 14\n",
      "False Negative: 56\n"
     ]
    }
   ],
   "source": [
    "true_positive = np.sum(np.logical_and((y_test == 1), (predict == 1)))\n",
    "false_positive = np.sum(np.logical_and((y_test == 0), (predict == 1)))\n",
    "false_negative = np.sum(np.logical_and((y_test == 1), (predict == 0)))\n",
    "print('True Positive: %d' % true_positive);\n",
    "print('False Positive: %d' % false_positive);\n",
    "print('False Negative: %d' % false_negative);"
   ]
  },
  {
   "cell_type": "code",
   "execution_count": 149,
   "metadata": {
    "collapsed": false
   },
   "outputs": [
    {
     "name": "stdout",
     "output_type": "stream",
     "text": [
      "Precision: 0.8511\n",
      "Recall: 0.5882\n",
      "F1 Score: 0.6957\n"
     ]
    }
   ],
   "source": [
    "# Compute Performance Metrics\n",
    "# Data is highly skewed so Accuracy alone won't help\n",
    "\n",
    "precision = true_positive / (true_positive + false_positive);\n",
    "recall = true_positive / (true_positive + false_negative);\n",
    "\n",
    "F1 = 2 * precision * recall / (precision + recall);\n",
    "\n",
    "print('Precision: %.4f' % precision);\n",
    "print('Recall: %.4f' % recall);\n",
    "print('F1 Score: %.4f' % F1);"
   ]
  },
  {
   "cell_type": "code",
   "execution_count": null,
   "metadata": {
    "collapsed": true
   },
   "outputs": [],
   "source": []
  }
 ],
 "metadata": {
  "kernelspec": {
   "display_name": "Python 3",
   "language": "python",
   "name": "python3"
  },
  "language_info": {
   "codemirror_mode": {
    "name": "ipython",
    "version": 3
   },
   "file_extension": ".py",
   "mimetype": "text/x-python",
   "name": "python",
   "nbconvert_exporter": "python",
   "pygments_lexer": "ipython3",
   "version": "3.5.2"
  }
 },
 "nbformat": 4,
 "nbformat_minor": 1
}
