{
 "cells": [
  {
   "cell_type": "markdown",
   "metadata": {},
   "source": [
    "# Fibonacci series using Tensorflow"
   ]
  },
  {
   "cell_type": "code",
   "execution_count": 10,
   "metadata": {
    "collapsed": true
   },
   "outputs": [],
   "source": [
    "import tensorflow as tf\n",
    "import numpy as np"
   ]
  },
  {
   "cell_type": "code",
   "execution_count": 11,
   "metadata": {
    "collapsed": true
   },
   "outputs": [],
   "source": [
    "# define variables\n",
    "a = tf.Variable(1)\n",
    "b = tf.Variable(1)\n",
    "\n",
    "# temporary variable to save new value in each iteration\n",
    "tmp = tf.Variable(0)"
   ]
  },
  {
   "cell_type": "code",
   "execution_count": 12,
   "metadata": {
    "collapsed": true
   },
   "outputs": [],
   "source": [
    "init = tf.global_variables_initializer()\n",
    "\n",
    "c = tf.add(a, b)\n",
    "\n",
    "update_newval = tf.assign(tmp, c)\n",
    "update_fib0 = tf.assign(a, b)\n",
    "update_fib1 = tf.assign(b, tmp)"
   ]
  },
  {
   "cell_type": "code",
   "execution_count": 13,
   "metadata": {
    "collapsed": false
   },
   "outputs": [],
   "source": [
    "with tf.Session() as ssn:\n",
    "    ssn.run(init)\n",
    "    fib = [ssn.run(a), ssn.run(b)]\n",
    "    \n",
    "    for i in range(10):\n",
    "        fib = np.append(fib, ssn.run(c))\n",
    "        \n",
    "        # update variables for next iteration\n",
    "        ssn.run(update_newval) \n",
    "        ssn.run(update_fib0)\n",
    "        ssn.run(update_fib1)"
   ]
  },
  {
   "cell_type": "code",
   "execution_count": 14,
   "metadata": {
    "collapsed": false
   },
   "outputs": [
    {
     "data": {
      "text/plain": [
       "array([  1,   1,   2,   3,   5,   8,  13,  21,  34,  55,  89, 144], dtype=int32)"
      ]
     },
     "execution_count": 14,
     "metadata": {},
     "output_type": "execute_result"
    }
   ],
   "source": [
    "fib"
   ]
  },
  {
   "cell_type": "code",
   "execution_count": 19,
   "metadata": {
    "collapsed": false
   },
   "outputs": [
    {
     "name": "stdout",
     "output_type": "stream",
     "text": [
      "[1, 1, 2, 3, 5, 8, 13, 21, 34, 55, 89, 144]\n"
     ]
    }
   ],
   "source": [
    "# Another Implementation\n",
    "\n",
    "f = [tf.constant(1), tf.constant(1)]\n",
    "\n",
    "for i in range(2,12):\n",
    "    temp = f[i-1] + f[i-2]\n",
    "    f.append(temp)\n",
    "\n",
    "with tf.Session() as sess:\n",
    "    result = sess.run(f)\n",
    "\n",
    "print(result)"
   ]
  },
  {
   "cell_type": "code",
   "execution_count": null,
   "metadata": {
    "collapsed": true
   },
   "outputs": [],
   "source": []
  }
 ],
 "metadata": {
  "kernelspec": {
   "display_name": "Python 3",
   "language": "python",
   "name": "python3"
  },
  "language_info": {
   "codemirror_mode": {
    "name": "ipython",
    "version": 3
   },
   "file_extension": ".py",
   "mimetype": "text/x-python",
   "name": "python",
   "nbconvert_exporter": "python",
   "pygments_lexer": "ipython3",
   "version": "3.5.2"
  }
 },
 "nbformat": 4,
 "nbformat_minor": 1
}
